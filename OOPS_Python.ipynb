{
 "cells": [
  {
   "cell_type": "code",
   "execution_count": 86,
   "metadata": {},
   "outputs": [],
   "source": [
    "class employee:\n",
    "    amount_raise=1.04\n",
    "    num_of_emps=0\n",
    "    def __init__(self,first,last,pay):\n",
    "        self.first=first\n",
    "        self.last=last\n",
    "        self.pay=pay\n",
    "#        self.mail=first+\".\"+last+\"@company.com\"\n",
    "        employee.num_of_emps+=1\n",
    "        \n",
    "        \n",
    "    def fullname(self):\n",
    "        return ('{} {}'.format(self.first,self.last))\n",
    "    \n",
    "    def apply_raise(self):\n",
    "        self.pay=int(self.pay*self.amount_raise)\n",
    "        #self.pay=int(self.pay*employee.amount_raise)\n",
    "        \n",
    "        \n",
    "    @property\n",
    "    def fullname(self):\n",
    "        return ('{} {}'.format(self.first,self.last))\n",
    "    \n",
    "    @property\n",
    "    def mail(self):\n",
    "        return ('{}.{}@company.com'.format(self.first,self.last))\n",
    "    \n",
    "    \n",
    "    @fullname.setter\n",
    "    def fullname(self,name):\n",
    "        first,last=name.split(\" \")\n",
    "        self.first=first\n",
    "        self.last=last\n",
    "     \n",
    "    \n",
    "    \n",
    "    @fullname.deleter\n",
    "    def fullname(self):\n",
    "        print(\"delete name!\")\n",
    "        self.first=None\n",
    "        self.last=None\n",
    "    \n",
    "    \n",
    "    \n",
    "        \n",
    "    \n",
    "    \n",
    "    def __repr__(self):\n",
    "        return ('{} {} {}'.format(self.first,self.last,self.pay))\n",
    "    \n",
    "    def __str__(self):\n",
    "        return ('{} {} '.format(self.fullname(),self.mail))\n",
    "    \n",
    "    def __add__(self,other):\n",
    "        return (self.pay+other.pay)\n",
    "    \n",
    "    def __len__(self):\n",
    "        return (len(self.fullname()))\n",
    "        \n",
    "    \n",
    "    @classmethod\n",
    "    def set_raise_amt(cls,amount):\n",
    "        cls.amount_raise=amount\n",
    "        \n",
    "    @classmethod\n",
    "    def from_string(cls,estring):\n",
    "        first,last,pay=estring.split(\"-\")\n",
    "        return cls(first,last,pay)\n",
    "     "
   ]
  },
  {
   "cell_type": "code",
   "execution_count": 87,
   "metadata": {},
   "outputs": [],
   "source": [
    "emp1=employee(\"test1f\",\"test1l\",100)\n",
    "emp2=employee(\"test2f\",\"test2l\",80)"
   ]
  },
  {
   "cell_type": "code",
   "execution_count": 88,
   "metadata": {},
   "outputs": [
    {
     "data": {
      "text/plain": [
       "'test1f.test1l@company.com'"
      ]
     },
     "execution_count": 88,
     "metadata": {},
     "output_type": "execute_result"
    }
   ],
   "source": [
    "emp1.mail"
   ]
  },
  {
   "cell_type": "code",
   "execution_count": 89,
   "metadata": {},
   "outputs": [
    {
     "data": {
      "text/plain": [
       "'corey'"
      ]
     },
     "execution_count": 89,
     "metadata": {},
     "output_type": "execute_result"
    }
   ],
   "source": [
    "emp1.fullname=\"corey schfer\"\n",
    "emp1.first"
   ]
  },
  {
   "cell_type": "code",
   "execution_count": 90,
   "metadata": {},
   "outputs": [
    {
     "name": "stdout",
     "output_type": "stream",
     "text": [
      "delete name!\n"
     ]
    }
   ],
   "source": [
    "del emp1.fullname"
   ]
  },
  {
   "cell_type": "code",
   "execution_count": 93,
   "metadata": {},
   "outputs": [
    {
     "name": "stdout",
     "output_type": "stream",
     "text": [
      "100\n"
     ]
    }
   ],
   "source": [
    "print(emp1.pay)"
   ]
  },
  {
   "cell_type": "code",
   "execution_count": 3,
   "metadata": {},
   "outputs": [
    {
     "name": "stdout",
     "output_type": "stream",
     "text": [
      "<__main__.employee object at 0x000001270A7F8DD8>\n"
     ]
    }
   ],
   "source": [
    "print(emp1)"
   ]
  },
  {
   "cell_type": "code",
   "execution_count": 4,
   "metadata": {},
   "outputs": [
    {
     "name": "stdout",
     "output_type": "stream",
     "text": [
      "test1f test1l\n"
     ]
    }
   ],
   "source": [
    "print('{} {}'.format(emp1.first,emp1.last))\n"
   ]
  },
  {
   "cell_type": "code",
   "execution_count": 5,
   "metadata": {},
   "outputs": [
    {
     "name": "stdout",
     "output_type": "stream",
     "text": [
      "104\n"
     ]
    }
   ],
   "source": [
    "emp1.apply_raise()\n",
    "print(emp1.pay)"
   ]
  },
  {
   "cell_type": "code",
   "execution_count": 6,
   "metadata": {},
   "outputs": [
    {
     "name": "stdout",
     "output_type": "stream",
     "text": [
      "1.04\n"
     ]
    }
   ],
   "source": [
    "print(emp1.amount_raise)"
   ]
  },
  {
   "cell_type": "code",
   "execution_count": 7,
   "metadata": {},
   "outputs": [],
   "source": [
    "emp1.amount_raise=1.05"
   ]
  },
  {
   "cell_type": "code",
   "execution_count": 8,
   "metadata": {},
   "outputs": [
    {
     "name": "stdout",
     "output_type": "stream",
     "text": [
      "{'first': 'test1f', 'last': 'test1l', 'pay': 104, 'mail': 'test1f.test1l@company.com', 'amount_raise': 1.05}\n",
      "{'first': 'test2f', 'last': 'test2l', 'pay': 80, 'mail': 'test2f.test2l@company.com'}\n"
     ]
    }
   ],
   "source": [
    "#namespace\n",
    "print(emp1.__dict__)\n",
    "#namespace\n",
    "print(emp2.__dict__)\n",
    "#see the diff of amount raise"
   ]
  },
  {
   "cell_type": "code",
   "execution_count": 9,
   "metadata": {},
   "outputs": [
    {
     "name": "stdout",
     "output_type": "stream",
     "text": [
      "{'__module__': '__main__', 'amount_raise': 1.04, 'num_of_emps': 2, '__init__': <function employee.__init__ at 0x000001270A7F9AE8>, 'fullname': <function employee.fullname at 0x000001270A7F9B70>, 'apply_raise': <function employee.apply_raise at 0x000001270A7F9BF8>, 'set_raise_amt': <classmethod object at 0x000001270A818FD0>, 'from_string': <classmethod object at 0x000001270A81B080>, '__dict__': <attribute '__dict__' of 'employee' objects>, '__weakref__': <attribute '__weakref__' of 'employee' objects>, '__doc__': None}\n"
     ]
    }
   ],
   "source": [
    "#namespace\n",
    "print(employee.__dict__)"
   ]
  },
  {
   "cell_type": "code",
   "execution_count": 10,
   "metadata": {},
   "outputs": [
    {
     "name": "stdout",
     "output_type": "stream",
     "text": [
      "john\n"
     ]
    }
   ],
   "source": [
    "emp_str=\"john-doe-6000\"\n",
    "e1=employee.from_string(emp_str)\n",
    "print(e1.first)"
   ]
  },
  {
   "cell_type": "code",
   "execution_count": 17,
   "metadata": {},
   "outputs": [],
   "source": [
    "class developer(employee):\n",
    "    amount_raise=1.10\n",
    "    def __init__(self,first,last,pay,program_lang):\n",
    "        super().__init__(first,last,pay)\n",
    "        self.program_lang=program_lang\n",
    "        \n",
    "        \n",
    "class manager(employee):\n",
    "    amount_raise=1.10\n",
    "    def __init__(self,first,last,pay,employees=None):\n",
    "        super().__init__(first,last,pay)\n",
    "        if employees==None:\n",
    "            self.employees= None\n",
    "        else:\n",
    "            self.employees=employees\n",
    "            \n",
    "            \n",
    "            \n",
    "    def add_emp(self,emplo):\n",
    "        if emplo in self.employees:\n",
    "            pass\n",
    "        else:\n",
    "            self.employees.append(emplo)\n",
    "   \n",
    "\n",
    "    def remove_emp(self,emplo):\n",
    "        if emplo in self.employees:\n",
    "            self.employees.remove(emplo)\n",
    "        else:\n",
    "            pass\n",
    "        \n",
    "    def print_emp(self):\n",
    "        for emp in self.employees:\n",
    "            print(emp.first)\n",
    "            \n",
    "            \n",
    "            "
   ]
  },
  {
   "cell_type": "code",
   "execution_count": 19,
   "metadata": {},
   "outputs": [],
   "source": [
    "manager1=manager(\"sundar\",\"pichai\",40000,[developer1])"
   ]
  },
  {
   "cell_type": "code",
   "execution_count": 21,
   "metadata": {},
   "outputs": [
    {
     "name": "stdout",
     "output_type": "stream",
     "text": [
      "linus\n"
     ]
    }
   ],
   "source": [
    "manager1.print_emp()"
   ]
  },
  {
   "cell_type": "code",
   "execution_count": 22,
   "metadata": {},
   "outputs": [],
   "source": [
    "manager1.add_emp(developer2)"
   ]
  },
  {
   "cell_type": "code",
   "execution_count": 24,
   "metadata": {},
   "outputs": [
    {
     "name": "stdout",
     "output_type": "stream",
     "text": [
      "linus\n",
      "bill\n"
     ]
    }
   ],
   "source": [
    "manager1.print_emp()"
   ]
  },
  {
   "cell_type": "code",
   "execution_count": 26,
   "metadata": {},
   "outputs": [],
   "source": [
    "manager1.remove_emp(developer2)"
   ]
  },
  {
   "cell_type": "code",
   "execution_count": 27,
   "metadata": {},
   "outputs": [
    {
     "name": "stdout",
     "output_type": "stream",
     "text": [
      "linus\n"
     ]
    }
   ],
   "source": [
    "manager1.print_emp()"
   ]
  },
  {
   "cell_type": "code",
   "execution_count": 14,
   "metadata": {},
   "outputs": [],
   "source": [
    "developer1=developer(\"linus\",\"torwald\",1000,\"python\")\n",
    "developer2=developer(\"bill\",\"gates\",35000,\"java\")"
   ]
  },
  {
   "cell_type": "code",
   "execution_count": null,
   "metadata": {},
   "outputs": [],
   "source": [
    "developer1.amount_raise\n"
   ]
  },
  {
   "cell_type": "code",
   "execution_count": null,
   "metadata": {},
   "outputs": [],
   "source": [
    "print(help(developer))\n",
    "#check for method resolution order"
   ]
  },
  {
   "cell_type": "code",
   "execution_count": null,
   "metadata": {},
   "outputs": [],
   "source": [
    "developer1.pay"
   ]
  },
  {
   "cell_type": "code",
   "execution_count": null,
   "metadata": {},
   "outputs": [],
   "source": [
    "developer1.apply_raise()"
   ]
  },
  {
   "cell_type": "code",
   "execution_count": null,
   "metadata": {},
   "outputs": [],
   "source": [
    "developer1.pay"
   ]
  },
  {
   "cell_type": "code",
   "execution_count": 28,
   "metadata": {},
   "outputs": [
    {
     "data": {
      "text/plain": [
       "'python'"
      ]
     },
     "execution_count": 28,
     "metadata": {},
     "output_type": "execute_result"
    }
   ],
   "source": [
    "developer1.program_lang"
   ]
  },
  {
   "cell_type": "code",
   "execution_count": 33,
   "metadata": {},
   "outputs": [
    {
     "name": "stdout",
     "output_type": "stream",
     "text": [
      "True\n",
      "True\n",
      "False\n"
     ]
    }
   ],
   "source": [
    "print(isinstance(manager1,manager))\n",
    "print(isinstance(manager1,employee))\n",
    "print(isinstance(manager1,developer))"
   ]
  },
  {
   "cell_type": "code",
   "execution_count": 39,
   "metadata": {},
   "outputs": [
    {
     "name": "stdout",
     "output_type": "stream",
     "text": [
      "True\n",
      "False\n",
      "False\n",
      "False\n",
      "False\n"
     ]
    }
   ],
   "source": [
    "print(issubclass(manager,manager))\n",
    "print(issubclass(manager,employee))\n",
    "print(issubclass(manager,developer))\n",
    "print(issubclass(developer,employee))\n",
    "print(issubclass(developer,manager))"
   ]
  },
  {
   "cell_type": "code",
   "execution_count": 51,
   "metadata": {},
   "outputs": [
    {
     "name": "stdout",
     "output_type": "stream",
     "text": [
      "test1f test1l 100\n",
      "test1f test1l test1f.test1l@company.com \n"
     ]
    }
   ],
   "source": [
    "print(repr(emp1))\n",
    "print(str(emp1))"
   ]
  },
  {
   "cell_type": "code",
   "execution_count": 67,
   "metadata": {},
   "outputs": [
    {
     "name": "stdout",
     "output_type": "stream",
     "text": [
      "3\n"
     ]
    }
   ],
   "source": [
    "print(1+2)"
   ]
  },
  {
   "cell_type": "code",
   "execution_count": 68,
   "metadata": {},
   "outputs": [
    {
     "name": "stdout",
     "output_type": "stream",
     "text": [
      "test1f test1l test1f.test1l@company.com \n"
     ]
    }
   ],
   "source": [
    "print(emp1.__str__())"
   ]
  },
  {
   "cell_type": "code",
   "execution_count": 55,
   "metadata": {},
   "outputs": [
    {
     "name": "stdout",
     "output_type": "stream",
     "text": [
      "3\n",
      "12\n"
     ]
    }
   ],
   "source": [
    "print(int.__add__(1,2))\n",
    "print(str.__add__(\"1\",\"2\"))"
   ]
  },
  {
   "cell_type": "code",
   "execution_count": 63,
   "metadata": {},
   "outputs": [
    {
     "name": "stdout",
     "output_type": "stream",
     "text": [
      "180\n"
     ]
    }
   ],
   "source": [
    "print(emp1+emp2)"
   ]
  },
  {
   "cell_type": "code",
   "execution_count": 70,
   "metadata": {},
   "outputs": [
    {
     "name": "stdout",
     "output_type": "stream",
     "text": [
      "4\n",
      "4\n"
     ]
    }
   ],
   "source": [
    "print(len(\"test\"))\n",
    "print(\"test\".__len__())   #dunder method"
   ]
  },
  {
   "cell_type": "code",
   "execution_count": 72,
   "metadata": {},
   "outputs": [
    {
     "name": "stdout",
     "output_type": "stream",
     "text": [
      "13\n"
     ]
    }
   ],
   "source": [
    "print(emp1.__len__())"
   ]
  }
 ],
 "metadata": {
  "kernelspec": {
   "display_name": "Python 3",
   "language": "python",
   "name": "python3"
  },
  "language_info": {
   "codemirror_mode": {
    "name": "ipython",
    "version": 3
   },
   "file_extension": ".py",
   "mimetype": "text/x-python",
   "name": "python",
   "nbconvert_exporter": "python",
   "pygments_lexer": "ipython3",
   "version": "3.6.7"
  }
 },
 "nbformat": 4,
 "nbformat_minor": 2
}
