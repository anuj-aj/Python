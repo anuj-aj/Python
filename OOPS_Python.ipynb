{
 "cells": [
  {
   "cell_type": "code",
   "execution_count": 39,
   "metadata": {},
   "outputs": [],
   "source": [
    "class employee:\n",
    "    amount_raise=1.04\n",
    "    num_of_emps=0\n",
    "    def __init__(self,first,last,pay):\n",
    "        self.first=first\n",
    "        self.last=last\n",
    "        self.pay=pay\n",
    "        self.mail=first+\".\"+last+\"@company.com\"\n",
    "        employee.num_of_emps+=1\n",
    "        \n",
    "        \n",
    "    def fullname(self):\n",
    "        return ('{} {}'.format(self.first,self.last))\n",
    "    \n",
    "    def apply_raise(self):\n",
    "        self.pay=int(self.pay*self.amount_raise)\n",
    "        #self.pay=int(self.pay*employee.amount_raise)\n",
    "    @classmethod\n",
    "    def set_raise_amt(cls,amount):\n",
    "        cls.amount_raise=amount\n",
    "        \n",
    "    @classmethod\n",
    "    def from_string(cls,estring):\n",
    "        first,last,pay=estring.split(\"-\")\n",
    "        return cls(first,last,pay)\n",
    "     "
   ]
  },
  {
   "cell_type": "code",
   "execution_count": 2,
   "metadata": {},
   "outputs": [],
   "source": [
    "emp1=employee(\"test1f\",\"test1l\",100)\n",
    "emp2=employee(\"test2f\",\"test2l\",80)"
   ]
  },
  {
   "cell_type": "code",
   "execution_count": 3,
   "metadata": {},
   "outputs": [
    {
     "name": "stdout",
     "output_type": "stream",
     "text": [
      "<__main__.employee object at 0x0000014707BF8DD8>\n"
     ]
    }
   ],
   "source": [
    "print(emp1)"
   ]
  },
  {
   "cell_type": "code",
   "execution_count": 4,
   "metadata": {},
   "outputs": [
    {
     "name": "stdout",
     "output_type": "stream",
     "text": [
      "test1f test1l\n"
     ]
    }
   ],
   "source": [
    "print('{} {}'.format(emp1.first,emp1.last))\n"
   ]
  },
  {
   "cell_type": "code",
   "execution_count": 5,
   "metadata": {},
   "outputs": [
    {
     "name": "stdout",
     "output_type": "stream",
     "text": [
      "104\n"
     ]
    }
   ],
   "source": [
    "emp1.apply_raise()\n",
    "print(emp1.pay)"
   ]
  },
  {
   "cell_type": "code",
   "execution_count": 6,
   "metadata": {},
   "outputs": [
    {
     "name": "stdout",
     "output_type": "stream",
     "text": [
      "1.04\n"
     ]
    }
   ],
   "source": [
    "print(emp1.amount_raise)"
   ]
  },
  {
   "cell_type": "code",
   "execution_count": 7,
   "metadata": {},
   "outputs": [],
   "source": [
    "emp1.amount_raise=1.05"
   ]
  },
  {
   "cell_type": "code",
   "execution_count": 8,
   "metadata": {},
   "outputs": [
    {
     "name": "stdout",
     "output_type": "stream",
     "text": [
      "{'first': 'test1f', 'last': 'test1l', 'pay': 104, 'mail': 'test1f.test1l@company.com', 'amount_raise': 1.05}\n",
      "{'first': 'test2f', 'last': 'test2l', 'pay': 80, 'mail': 'test2f.test2l@company.com'}\n"
     ]
    }
   ],
   "source": [
    "#namespace\n",
    "print(emp1.__dict__)\n",
    "#namespace\n",
    "print(emp2.__dict__)\n",
    "#see the diff of amount raise"
   ]
  },
  {
   "cell_type": "code",
   "execution_count": 9,
   "metadata": {},
   "outputs": [
    {
     "name": "stdout",
     "output_type": "stream",
     "text": [
      "{'__module__': '__main__', 'amount_raise': 1.04, 'num_of_emps': 2, '__init__': <function employee.__init__ at 0x0000014707BF99D8>, 'fullname': <function employee.fullname at 0x0000014707BF9510>, 'apply_raise': <function employee.apply_raise at 0x0000014707BF9BF8>, 'set_raise_amt': <classmethod object at 0x0000014707C1CFD0>, 'from_string': <classmethod object at 0x0000014707C17080>, '__dict__': <attribute '__dict__' of 'employee' objects>, '__weakref__': <attribute '__weakref__' of 'employee' objects>, '__doc__': None}\n"
     ]
    }
   ],
   "source": [
    "#namespace\n",
    "print(employee.__dict__)"
   ]
  },
  {
   "cell_type": "code",
   "execution_count": 11,
   "metadata": {},
   "outputs": [
    {
     "name": "stdout",
     "output_type": "stream",
     "text": [
      "john\n"
     ]
    }
   ],
   "source": [
    "emp_str=\"john-doe-6000\"\n",
    "e1=employee.from_string(emp_str)\n",
    "print(e1.first)"
   ]
  },
  {
   "cell_type": "code",
   "execution_count": 40,
   "metadata": {},
   "outputs": [],
   "source": [
    "class developer(employee):\n",
    "    amount_raise=1.10\n",
    "    def __init__(self,first,last,pay,program_lang):\n",
    "        super().__init__(first,last,pay)\n",
    "        self.program_lang=program_lang\n",
    "        \n",
    "        \n",
    "class manager(employee):\n",
    "    amount_raise=1.10\n",
    "    def __init__(self,first,last,pay,employees=None):\n",
    "        super().__init__(first,last,pay)\n",
    "        self.employees=        "
   ]
  },
  {
   "cell_type": "code",
   "execution_count": 41,
   "metadata": {},
   "outputs": [],
   "source": [
    "developer1=developer(\"linus\",\"torwald\",1000,\"python\")\n",
    "developer2=developer(\"bill\",\"gates\",35000,\"java\")"
   ]
  },
  {
   "cell_type": "code",
   "execution_count": 42,
   "metadata": {},
   "outputs": [
    {
     "data": {
      "text/plain": [
       "1.1"
      ]
     },
     "execution_count": 42,
     "metadata": {},
     "output_type": "execute_result"
    }
   ],
   "source": [
    "developer1.amount_raise\n"
   ]
  },
  {
   "cell_type": "code",
   "execution_count": 19,
   "metadata": {},
   "outputs": [
    {
     "name": "stdout",
     "output_type": "stream",
     "text": [
      "Help on class developer in module __main__:\n",
      "\n",
      "class developer(employee)\n",
      " |  Method resolution order:\n",
      " |      developer\n",
      " |      employee\n",
      " |      builtins.object\n",
      " |  \n",
      " |  Methods inherited from employee:\n",
      " |  \n",
      " |  __init__(self, first, last, pay)\n",
      " |      Initialize self.  See help(type(self)) for accurate signature.\n",
      " |  \n",
      " |  apply_raise(self)\n",
      " |  \n",
      " |  fullname(self)\n",
      " |  \n",
      " |  ----------------------------------------------------------------------\n",
      " |  Class methods inherited from employee:\n",
      " |  \n",
      " |  from_string(estring) from builtins.type\n",
      " |  \n",
      " |  set_raise_amt(amount) from builtins.type\n",
      " |  \n",
      " |  ----------------------------------------------------------------------\n",
      " |  Data descriptors inherited from employee:\n",
      " |  \n",
      " |  __dict__\n",
      " |      dictionary for instance variables (if defined)\n",
      " |  \n",
      " |  __weakref__\n",
      " |      list of weak references to the object (if defined)\n",
      " |  \n",
      " |  ----------------------------------------------------------------------\n",
      " |  Data and other attributes inherited from employee:\n",
      " |  \n",
      " |  amount_raise = 1.04\n",
      " |  \n",
      " |  num_of_emps = 7\n",
      "\n",
      "None\n"
     ]
    }
   ],
   "source": [
    "print(help(developer))\n",
    "#check for method resolution order"
   ]
  },
  {
   "cell_type": "code",
   "execution_count": 43,
   "metadata": {},
   "outputs": [
    {
     "data": {
      "text/plain": [
       "1000"
      ]
     },
     "execution_count": 43,
     "metadata": {},
     "output_type": "execute_result"
    }
   ],
   "source": [
    "developer1.pay"
   ]
  },
  {
   "cell_type": "code",
   "execution_count": 44,
   "metadata": {},
   "outputs": [],
   "source": [
    "developer1.apply_raise()"
   ]
  },
  {
   "cell_type": "code",
   "execution_count": 45,
   "metadata": {},
   "outputs": [
    {
     "data": {
      "text/plain": [
       "1100"
      ]
     },
     "execution_count": 45,
     "metadata": {},
     "output_type": "execute_result"
    }
   ],
   "source": [
    "developer1.pay"
   ]
  },
  {
   "cell_type": "code",
   "execution_count": 46,
   "metadata": {},
   "outputs": [
    {
     "data": {
      "text/plain": [
       "'python'"
      ]
     },
     "execution_count": 46,
     "metadata": {},
     "output_type": "execute_result"
    }
   ],
   "source": [
    "developer1.program_lang"
   ]
  }
 ],
 "metadata": {
  "kernelspec": {
   "display_name": "Python 3",
   "language": "python",
   "name": "python3"
  },
  "language_info": {
   "codemirror_mode": {
    "name": "ipython",
    "version": 3
   },
   "file_extension": ".py",
   "mimetype": "text/x-python",
   "name": "python",
   "nbconvert_exporter": "python",
   "pygments_lexer": "ipython3",
   "version": "3.6.7"
  }
 },
 "nbformat": 4,
 "nbformat_minor": 2
}
